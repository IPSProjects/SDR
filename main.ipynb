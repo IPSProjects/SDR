{
 "cells": [
  {
   "attachments": {},
   "cell_type": "markdown",
   "metadata": {},
   "source": [
    "# Structure Database Repository"
   ]
  },
  {
   "cell_type": "code",
   "execution_count": 1,
   "metadata": {},
   "outputs": [
    {
     "name": "stdout",
     "output_type": "stream",
     "text": [
      "2023-06-14 23:44:59,942 (DEBUG): Welcome to IPS - the Interatomic Potential Suite!\n"
     ]
    }
   ],
   "source": [
    "import ipsuite as ips"
   ]
  },
  {
   "cell_type": "code",
   "execution_count": 2,
   "metadata": {},
   "outputs": [
    {
     "name": "stderr",
     "output_type": "stream",
     "text": [
      "Running DVC command: 'stage add --name SmilesToAtoms --force ...'\n",
      "Running DVC command: 'stage add --name SmilesToAtoms_1 --force ...'\n",
      "Running DVC command: 'stage add --name Packmol --force ...'\n",
      "Running DVC command: 'stage add --name Packmol_1 --force ...'\n",
      "Running DVC command: 'stage add --name CP2KSinglePoint --force ...'\n",
      "Running DVC command: 'stage add --name BMIM_BF4-x10 --force ...'\n"
     ]
    }
   ],
   "source": [
    "with ips.Project(automatic_node_names=True) as project:\n",
    "    cation = ips.configuration_generation.SmilesToAtoms(\"CCCCN1C=C[N+](=C1)C\")\n",
    "    anion = ips.configuration_generation.SmilesToAtoms(\"[B-](F)(F)(F)F\")\n",
    "    \n",
    "    single_structure = ips.configuration_generation.Packmol(\n",
    "        data=[cation.atoms, anion.atoms],\n",
    "        count=[1, 1],\n",
    "        density=1210,\n",
    "    )\n",
    "\n",
    "    structure = ips.configuration_generation.Packmol(\n",
    "        data=[single_structure.atoms],\n",
    "        count=[10],\n",
    "        density=1210,\n",
    "    )\n",
    "    \n",
    "    # Define the CP2K calculations\n",
    "    cp2k = ips.calculators.CP2KSinglePoint(\n",
    "        data=structure,\n",
    "        cp2k_files=[\"GTH_BASIS_SETS\", \"GTH_POTENTIALS\", \"dftd3.dat\"],\n",
    "        cp2k_shell=\"cp2k_shell.ssmp\",\n",
    "    )\n",
    "\n",
    "    geopt = ips.calculators.ASEGeoOpt(\n",
    "        model=cp2k,\n",
    "        data=structure.atoms,\n",
    "        optimizer=\"BFGS\",\n",
    "        run_kwargs={\"fmax\": 0.1},\n",
    "        name=\"BMIM_BF4-x10\",\n",
    "    )\n",
    "\n",
    "project.run(repro=False)"
   ]
  },
  {
   "cell_type": "code",
   "execution_count": null,
   "metadata": {},
   "outputs": [],
   "source": []
  }
 ],
 "metadata": {
  "kernelspec": {
   "display_name": "ipsuite",
   "language": "python",
   "name": "python3"
  },
  "language_info": {
   "codemirror_mode": {
    "name": "ipython",
    "version": 3
   },
   "file_extension": ".py",
   "mimetype": "text/x-python",
   "name": "python",
   "nbconvert_exporter": "python",
   "pygments_lexer": "ipython3",
   "version": "3.10.9"
  },
  "orig_nbformat": 4
 },
 "nbformat": 4,
 "nbformat_minor": 2
}
