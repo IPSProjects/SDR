{
 "cells": [
  {
   "attachments": {},
   "cell_type": "markdown",
   "metadata": {},
   "source": [
    "# Structure Database Repository"
   ]
  },
  {
   "cell_type": "code",
   "execution_count": 1,
   "metadata": {},
   "outputs": [
    {
     "name": "stdout",
     "output_type": "stream",
     "text": [
      "2023-10-30 10:21:10,308 (DEBUG): Welcome to IPS - the Interatomic Potential Suite!\n"
     ]
    }
   ],
   "source": [
    "import ipsuite as ips\n",
    "import os\n",
    "os.environ[\"IPSUITE_CP2K_SHELL\"] = \"cp2k_shell.ssmp\""
   ]
  },
  {
   "cell_type": "code",
   "execution_count": 2,
   "metadata": {},
   "outputs": [
    {
     "name": "stderr",
     "output_type": "stream",
     "text": [
      "Running DVC command: 'stage add --name EC_SmilesToAtoms --force ...'\n",
      "Running DVC command: 'stage add --name EC_Packmol --force ...'\n",
      "Running DVC command: 'stage add --name EC_CP2KSinglePoint --force ...'\n",
      "Running DVC command: 'stage add --name EC_x10 --force ...'\n"
     ]
    }
   ],
   "source": [
    "with ips.Project() as project:\n",
    "    with project.group(\"EC\"):\n",
    "        mol = ips.configuration_generation.SmilesToAtoms(smiles=\"C1COC(=O)O1\")\n",
    "        \n",
    "        # Create a box of atoms.\n",
    "        packmol = ips.configuration_generation.Packmol(\n",
    "            data=[mol.atoms], count=[10], density=1321\n",
    "        )\n",
    "        \n",
    "        # Define the CP2K calculations\n",
    "        cp2k = ips.calculators.CP2KSinglePoint(\n",
    "            data=packmol,\n",
    "            cp2k_files=[\"GTH_BASIS_SETS\", \"GTH_POTENTIALS\", \"dftd3.dat\"],\n",
    "        )\n",
    "\n",
    "        geopt = ips.calculators.ASEGeoOpt(\n",
    "            model=cp2k,\n",
    "            data=packmol.atoms,\n",
    "            optimizer=\"BFGS\",\n",
    "            run_kwargs={\"fmax\": 0.1},\n",
    "            name=\"x10\",\n",
    "        )\n",
    "\n",
    "project.run(repro=False)"
   ]
  }
 ],
 "metadata": {
  "kernelspec": {
   "display_name": "ipsuite",
   "language": "python",
   "name": "python3"
  },
  "language_info": {
   "codemirror_mode": {
    "name": "ipython",
    "version": 3
   },
   "file_extension": ".py",
   "mimetype": "text/x-python",
   "name": "python",
   "nbconvert_exporter": "python",
   "pygments_lexer": "ipython3",
   "version": "3.10.11"
  },
  "orig_nbformat": 4
 },
 "nbformat": 4,
 "nbformat_minor": 2
}
