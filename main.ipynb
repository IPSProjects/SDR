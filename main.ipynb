{
 "cells": [
  {
   "attachments": {},
   "cell_type": "markdown",
   "metadata": {},
   "source": [
    "# Structure Database Repository"
   ]
  },
  {
   "cell_type": "code",
   "execution_count": 1,
   "metadata": {},
   "outputs": [
    {
     "name": "stdout",
     "output_type": "stream",
     "text": [
      "2023-06-14 16:03:41,713 (DEBUG): Welcome to IPS - the Interatomic Potential Suite!\n"
     ]
    }
   ],
   "source": [
    "import ipsuite as ips"
   ]
  },
  {
   "cell_type": "code",
   "execution_count": 2,
   "metadata": {},
   "outputs": [
    {
     "name": "stderr",
     "output_type": "stream",
     "text": [
      "Running DVC command: 'stage add --name SmilesToAtoms --force ...'\n",
      "Running DVC command: 'stage add --name Packmol --force ...'\n",
      "Running DVC command: 'stage add --name CP2KSinglePoint --force ...'\n",
      "Running DVC command: 'stage add --name H2O-x10 --force ...'\n"
     ]
    }
   ],
   "source": [
    "with ips.Project() as project:\n",
    "    mol = ips.configuration_generation.SmilesToAtoms(smiles=\"O\")\n",
    "    \n",
    "    # Create a box of atoms.\n",
    "    packmol = ips.configuration_generation.Packmol(\n",
    "        data=[mol.atoms], count=[10], density=997\n",
    "    )\n",
    "    \n",
    "    # Define the CP2K calculations\n",
    "    cp2k = ips.calculators.CP2KSinglePoint(\n",
    "        data=packmol,\n",
    "        cp2k_files=[\"GTH_BASIS_SETS\", \"GTH_POTENTIALS\", \"dftd3.dat\"],\n",
    "        cp2k_shell=\"cp2k_shell.ssmp\",\n",
    "    )\n",
    "\n",
    "    geopt = ips.calculators.ASEGeoOpt(\n",
    "        model=cp2k,\n",
    "        data=packmol.atoms,\n",
    "        optimizer=\"BFGS\",\n",
    "        run_kwargs={\"fmax\": 0.1},\n",
    "        name=\"H2O-x10\",\n",
    "    )\n",
    "\n",
    "project.run(repro=False)"
   ]
  },
  {
   "cell_type": "code",
   "execution_count": null,
   "metadata": {},
   "outputs": [],
   "source": []
  }
 ],
 "metadata": {
  "kernelspec": {
   "display_name": "ipsuite",
   "language": "python",
   "name": "python3"
  },
  "language_info": {
   "codemirror_mode": {
    "name": "ipython",
    "version": 3
   },
   "file_extension": ".py",
   "mimetype": "text/x-python",
   "name": "python",
   "nbconvert_exporter": "python",
   "pygments_lexer": "ipython3",
   "version": "3.10.9"
  },
  "orig_nbformat": 4
 },
 "nbformat": 4,
 "nbformat_minor": 2
}
